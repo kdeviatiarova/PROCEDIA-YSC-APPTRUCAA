{
 "cells": [
  {
   "cell_type": "code",
   "execution_count": 1,
   "outputs": [],
   "source": [
    "import pandas as pd\n",
    "import numpy as np\n",
    "import matplotlib.pyplot as plt\n",
    "import matplotlib.cm as cm\n",
    "\n",
    "df1 = pd.read_excel('csv/DSF1.xlsx')\n",
    "df2 = pd.read_excel('csv/DSF2.xlsx')\n",
    "df3 = pd.read_excel('csv/DSF3.xlsx')\n",
    "\n",
    "col_list = ['id', 'IP', 'dt_completion', 't_used', 'mail', 'name']\n",
    "\n",
    "for i, col in enumerate(df2.columns):\n",
    "    if col not in col_list:\n",
    "        df2.rename(columns={col: f'column_{i+1}'}, inplace=True)\n",
    "\n",
    "for i, col in enumerate(df3.columns):\n",
    "    if col not in col_list:\n",
    "        df3.rename(columns={col: f'column_{i+1}'}, inplace=True)\n",
    "\n",
    "merged_df = pd.merge(df2, df3, on=list(df2.columns) + list(df3.columns),  how='outer')"
   ],
   "metadata": {
    "collapsed": false
   }
  },
  {
   "cell_type": "code",
   "execution_count": 2,
   "outputs": [],
   "source": [
    "columns_to_delete = [col for col in merged_df.columns if col.startswith('column_') and int(col.split('_')[1]) % 3 != 0]"
   ],
   "metadata": {
    "collapsed": false
   }
  },
  {
   "cell_type": "code",
   "execution_count": 3,
   "outputs": [],
   "source": [
    "merged_df = merged_df.drop(columns=columns_to_delete, axis=1)"
   ],
   "metadata": {
    "collapsed": false
   }
  },
  {
   "cell_type": "code",
   "execution_count": 4,
   "outputs": [],
   "source": [
    "cols_to_process = merged_df.columns[6:]\n",
    "\n",
    "merged_df[cols_to_process] = merged_df[cols_to_process].replace(regex={r'1 из 1': 1, '0 из 1': 0})\n",
    "merged_df[cols_to_process] = merged_df[cols_to_process].fillna(0).astype(int)\n",
    "\n",
    "df = merged_df.copy()"
   ],
   "metadata": {
    "collapsed": false
   }
  },
  {
   "cell_type": "code",
   "execution_count": 5,
   "outputs": [],
   "source": [
    "s_questions = [10, 9, 8, 9, 8, 8, 8, 9, 8, 8, 8, 4]\n",
    "\n",
    "start_col = 6\n",
    "end_col = start_col\n",
    "\n",
    "for i, num_questions in enumerate(s_questions):\n",
    "    end_col += num_questions\n",
    "    section_num = i + 1\n",
    "    section_name = 'S' + str(section_num)\n",
    "    section_cols = list(range(start_col, end_col))\n",
    "    df[str(section_name)] = df.iloc[:, section_cols].sum(axis=1)\n",
    "    start_col = end_col\n",
    "\n",
    "columns_to_del = [col for col in merged_df.columns if col.startswith('column_')]\n",
    "df = df.drop(columns=columns_to_del, axis=1)"
   ],
   "metadata": {
    "collapsed": false
   }
  },
  {
   "cell_type": "code",
   "execution_count": 6,
   "outputs": [],
   "source": [
    "df = pd.merge(df, df1, on=list(df.columns) + list(df1.columns),  how='outer')\n",
    "df['t_used'] = df['t_used'].astype(str)\n",
    "df['t_used'] = pd.to_timedelta(df['t_used'])\n",
    "df = df[df['t_used'] >= pd.Timedelta(minutes=5)]"
   ],
   "metadata": {
    "collapsed": false
   }
  },
  {
   "cell_type": "code",
   "execution_count": 7,
   "outputs": [],
   "source": [
    "df.sort_values('dt_completion', inplace=True)\n",
    "\n",
    "df = df.groupby('IP').first().reset_index()"
   ],
   "metadata": {
    "collapsed": false
   }
  },
  {
   "cell_type": "code",
   "execution_count": 8,
   "outputs": [],
   "source": [
    "df = df.groupby('mail').first().reset_index()"
   ],
   "metadata": {
    "collapsed": false
   }
  },
  {
   "cell_type": "code",
   "execution_count": 9,
   "outputs": [],
   "source": [
    "df = df.groupby('name').first().reset_index()"
   ],
   "metadata": {
    "collapsed": false
   }
  },
  {
   "cell_type": "code",
   "execution_count": 10,
   "outputs": [],
   "source": [
    "df.index.name = 'index'"
   ],
   "metadata": {
    "collapsed": false
   }
  },
  {
   "cell_type": "code",
   "execution_count": 11,
   "outputs": [],
   "source": [
    "private = df.copy(['name', 'mail', 'IP', 'dt_completion', 't_used'])\n",
    "df = df.drop(['id','name', 'mail', 'IP', 'dt_completion', 't_used'], axis=1)"
   ],
   "metadata": {
    "collapsed": false
   }
  },
  {
   "cell_type": "code",
   "execution_count": 12,
   "outputs": [
    {
     "data": {
      "text/plain": "       S1  S2  S3  S4  S5  S6  S7  S8  S9  S10  S11  S12\nindex                                                   \n0       5   1   2   3   2   3   2   3   4    2    0    2\n1       2   3   0   1   2   2   1   2   2    1    1    1\n2       5   4   1   4   2   3   3   0   4    3    2    1\n3       3   3   2   0   1   3   3   2   2    2    1    2\n4       3   4   2   1   0   3   1   0   2    3    1    0\n...    ..  ..  ..  ..  ..  ..  ..  ..  ..  ...  ...  ...\n492     2   2   1   1   2   3   3   2   5    0    3    1\n493     1   2   1   1   0   0   1   2   2    1    3    1\n494     3   4   0   0   4   2   3   3   5    3    1    3\n495     5   5   1   5   5   3   4   4   5    4    2    2\n496     4   4   3   5   3   4   4   4   4    5    3    3\n\n[497 rows x 12 columns]",
      "text/html": "<div>\n<style scoped>\n    .dataframe tbody tr th:only-of-type {\n        vertical-align: middle;\n    }\n\n    .dataframe tbody tr th {\n        vertical-align: top;\n    }\n\n    .dataframe thead th {\n        text-align: right;\n    }\n</style>\n<table border=\"1\" class=\"dataframe\">\n  <thead>\n    <tr style=\"text-align: right;\">\n      <th></th>\n      <th>S1</th>\n      <th>S2</th>\n      <th>S3</th>\n      <th>S4</th>\n      <th>S5</th>\n      <th>S6</th>\n      <th>S7</th>\n      <th>S8</th>\n      <th>S9</th>\n      <th>S10</th>\n      <th>S11</th>\n      <th>S12</th>\n    </tr>\n    <tr>\n      <th>index</th>\n      <th></th>\n      <th></th>\n      <th></th>\n      <th></th>\n      <th></th>\n      <th></th>\n      <th></th>\n      <th></th>\n      <th></th>\n      <th></th>\n      <th></th>\n      <th></th>\n    </tr>\n  </thead>\n  <tbody>\n    <tr>\n      <th>0</th>\n      <td>5</td>\n      <td>1</td>\n      <td>2</td>\n      <td>3</td>\n      <td>2</td>\n      <td>3</td>\n      <td>2</td>\n      <td>3</td>\n      <td>4</td>\n      <td>2</td>\n      <td>0</td>\n      <td>2</td>\n    </tr>\n    <tr>\n      <th>1</th>\n      <td>2</td>\n      <td>3</td>\n      <td>0</td>\n      <td>1</td>\n      <td>2</td>\n      <td>2</td>\n      <td>1</td>\n      <td>2</td>\n      <td>2</td>\n      <td>1</td>\n      <td>1</td>\n      <td>1</td>\n    </tr>\n    <tr>\n      <th>2</th>\n      <td>5</td>\n      <td>4</td>\n      <td>1</td>\n      <td>4</td>\n      <td>2</td>\n      <td>3</td>\n      <td>3</td>\n      <td>0</td>\n      <td>4</td>\n      <td>3</td>\n      <td>2</td>\n      <td>1</td>\n    </tr>\n    <tr>\n      <th>3</th>\n      <td>3</td>\n      <td>3</td>\n      <td>2</td>\n      <td>0</td>\n      <td>1</td>\n      <td>3</td>\n      <td>3</td>\n      <td>2</td>\n      <td>2</td>\n      <td>2</td>\n      <td>1</td>\n      <td>2</td>\n    </tr>\n    <tr>\n      <th>4</th>\n      <td>3</td>\n      <td>4</td>\n      <td>2</td>\n      <td>1</td>\n      <td>0</td>\n      <td>3</td>\n      <td>1</td>\n      <td>0</td>\n      <td>2</td>\n      <td>3</td>\n      <td>1</td>\n      <td>0</td>\n    </tr>\n    <tr>\n      <th>...</th>\n      <td>...</td>\n      <td>...</td>\n      <td>...</td>\n      <td>...</td>\n      <td>...</td>\n      <td>...</td>\n      <td>...</td>\n      <td>...</td>\n      <td>...</td>\n      <td>...</td>\n      <td>...</td>\n      <td>...</td>\n    </tr>\n    <tr>\n      <th>492</th>\n      <td>2</td>\n      <td>2</td>\n      <td>1</td>\n      <td>1</td>\n      <td>2</td>\n      <td>3</td>\n      <td>3</td>\n      <td>2</td>\n      <td>5</td>\n      <td>0</td>\n      <td>3</td>\n      <td>1</td>\n    </tr>\n    <tr>\n      <th>493</th>\n      <td>1</td>\n      <td>2</td>\n      <td>1</td>\n      <td>1</td>\n      <td>0</td>\n      <td>0</td>\n      <td>1</td>\n      <td>2</td>\n      <td>2</td>\n      <td>1</td>\n      <td>3</td>\n      <td>1</td>\n    </tr>\n    <tr>\n      <th>494</th>\n      <td>3</td>\n      <td>4</td>\n      <td>0</td>\n      <td>0</td>\n      <td>4</td>\n      <td>2</td>\n      <td>3</td>\n      <td>3</td>\n      <td>5</td>\n      <td>3</td>\n      <td>1</td>\n      <td>3</td>\n    </tr>\n    <tr>\n      <th>495</th>\n      <td>5</td>\n      <td>5</td>\n      <td>1</td>\n      <td>5</td>\n      <td>5</td>\n      <td>3</td>\n      <td>4</td>\n      <td>4</td>\n      <td>5</td>\n      <td>4</td>\n      <td>2</td>\n      <td>2</td>\n    </tr>\n    <tr>\n      <th>496</th>\n      <td>4</td>\n      <td>4</td>\n      <td>3</td>\n      <td>5</td>\n      <td>3</td>\n      <td>4</td>\n      <td>4</td>\n      <td>4</td>\n      <td>4</td>\n      <td>5</td>\n      <td>3</td>\n      <td>3</td>\n    </tr>\n  </tbody>\n</table>\n<p>497 rows × 12 columns</p>\n</div>"
     },
     "execution_count": 12,
     "metadata": {},
     "output_type": "execute_result"
    }
   ],
   "source": [
    "df"
   ],
   "metadata": {
    "collapsed": false
   }
  },
  {
   "cell_type": "code",
   "execution_count": 13,
   "outputs": [
    {
     "data": {
      "text/plain": "           S1   S2   S3   S4   S5   S6   S7   S8   S9  S10  S11   S12\n0    0.833333  0.2  0.4  0.6  0.4  0.6  0.4  0.6  0.8  0.4  0.0  0.50\n1    0.333333  0.6  0.0  0.2  0.4  0.4  0.2  0.4  0.4  0.2  0.2  0.25\n2    0.833333  0.8  0.2  0.8  0.4  0.6  0.6  0.0  0.8  0.6  0.4  0.25\n3    0.500000  0.6  0.4  0.0  0.2  0.6  0.6  0.4  0.4  0.4  0.2  0.50\n4    0.500000  0.8  0.4  0.2  0.0  0.6  0.2  0.0  0.4  0.6  0.2  0.00\n..        ...  ...  ...  ...  ...  ...  ...  ...  ...  ...  ...   ...\n492  0.333333  0.4  0.2  0.2  0.4  0.6  0.6  0.4  1.0  0.0  0.6  0.25\n493  0.166667  0.4  0.2  0.2  0.0  0.0  0.2  0.4  0.4  0.2  0.6  0.25\n494  0.500000  0.8  0.0  0.0  0.8  0.4  0.6  0.6  1.0  0.6  0.2  0.75\n495  0.833333  1.0  0.2  1.0  1.0  0.6  0.8  0.8  1.0  0.8  0.4  0.50\n496  0.666667  0.8  0.6  1.0  0.6  0.8  0.8  0.8  0.8  1.0  0.6  0.75\n\n[497 rows x 12 columns]",
      "text/html": "<div>\n<style scoped>\n    .dataframe tbody tr th:only-of-type {\n        vertical-align: middle;\n    }\n\n    .dataframe tbody tr th {\n        vertical-align: top;\n    }\n\n    .dataframe thead th {\n        text-align: right;\n    }\n</style>\n<table border=\"1\" class=\"dataframe\">\n  <thead>\n    <tr style=\"text-align: right;\">\n      <th></th>\n      <th>S1</th>\n      <th>S2</th>\n      <th>S3</th>\n      <th>S4</th>\n      <th>S5</th>\n      <th>S6</th>\n      <th>S7</th>\n      <th>S8</th>\n      <th>S9</th>\n      <th>S10</th>\n      <th>S11</th>\n      <th>S12</th>\n    </tr>\n  </thead>\n  <tbody>\n    <tr>\n      <th>0</th>\n      <td>0.833333</td>\n      <td>0.2</td>\n      <td>0.4</td>\n      <td>0.6</td>\n      <td>0.4</td>\n      <td>0.6</td>\n      <td>0.4</td>\n      <td>0.6</td>\n      <td>0.8</td>\n      <td>0.4</td>\n      <td>0.0</td>\n      <td>0.50</td>\n    </tr>\n    <tr>\n      <th>1</th>\n      <td>0.333333</td>\n      <td>0.6</td>\n      <td>0.0</td>\n      <td>0.2</td>\n      <td>0.4</td>\n      <td>0.4</td>\n      <td>0.2</td>\n      <td>0.4</td>\n      <td>0.4</td>\n      <td>0.2</td>\n      <td>0.2</td>\n      <td>0.25</td>\n    </tr>\n    <tr>\n      <th>2</th>\n      <td>0.833333</td>\n      <td>0.8</td>\n      <td>0.2</td>\n      <td>0.8</td>\n      <td>0.4</td>\n      <td>0.6</td>\n      <td>0.6</td>\n      <td>0.0</td>\n      <td>0.8</td>\n      <td>0.6</td>\n      <td>0.4</td>\n      <td>0.25</td>\n    </tr>\n    <tr>\n      <th>3</th>\n      <td>0.500000</td>\n      <td>0.6</td>\n      <td>0.4</td>\n      <td>0.0</td>\n      <td>0.2</td>\n      <td>0.6</td>\n      <td>0.6</td>\n      <td>0.4</td>\n      <td>0.4</td>\n      <td>0.4</td>\n      <td>0.2</td>\n      <td>0.50</td>\n    </tr>\n    <tr>\n      <th>4</th>\n      <td>0.500000</td>\n      <td>0.8</td>\n      <td>0.4</td>\n      <td>0.2</td>\n      <td>0.0</td>\n      <td>0.6</td>\n      <td>0.2</td>\n      <td>0.0</td>\n      <td>0.4</td>\n      <td>0.6</td>\n      <td>0.2</td>\n      <td>0.00</td>\n    </tr>\n    <tr>\n      <th>...</th>\n      <td>...</td>\n      <td>...</td>\n      <td>...</td>\n      <td>...</td>\n      <td>...</td>\n      <td>...</td>\n      <td>...</td>\n      <td>...</td>\n      <td>...</td>\n      <td>...</td>\n      <td>...</td>\n      <td>...</td>\n    </tr>\n    <tr>\n      <th>492</th>\n      <td>0.333333</td>\n      <td>0.4</td>\n      <td>0.2</td>\n      <td>0.2</td>\n      <td>0.4</td>\n      <td>0.6</td>\n      <td>0.6</td>\n      <td>0.4</td>\n      <td>1.0</td>\n      <td>0.0</td>\n      <td>0.6</td>\n      <td>0.25</td>\n    </tr>\n    <tr>\n      <th>493</th>\n      <td>0.166667</td>\n      <td>0.4</td>\n      <td>0.2</td>\n      <td>0.2</td>\n      <td>0.0</td>\n      <td>0.0</td>\n      <td>0.2</td>\n      <td>0.4</td>\n      <td>0.4</td>\n      <td>0.2</td>\n      <td>0.6</td>\n      <td>0.25</td>\n    </tr>\n    <tr>\n      <th>494</th>\n      <td>0.500000</td>\n      <td>0.8</td>\n      <td>0.0</td>\n      <td>0.0</td>\n      <td>0.8</td>\n      <td>0.4</td>\n      <td>0.6</td>\n      <td>0.6</td>\n      <td>1.0</td>\n      <td>0.6</td>\n      <td>0.2</td>\n      <td>0.75</td>\n    </tr>\n    <tr>\n      <th>495</th>\n      <td>0.833333</td>\n      <td>1.0</td>\n      <td>0.2</td>\n      <td>1.0</td>\n      <td>1.0</td>\n      <td>0.6</td>\n      <td>0.8</td>\n      <td>0.8</td>\n      <td>1.0</td>\n      <td>0.8</td>\n      <td>0.4</td>\n      <td>0.50</td>\n    </tr>\n    <tr>\n      <th>496</th>\n      <td>0.666667</td>\n      <td>0.8</td>\n      <td>0.6</td>\n      <td>1.0</td>\n      <td>0.6</td>\n      <td>0.8</td>\n      <td>0.8</td>\n      <td>0.8</td>\n      <td>0.8</td>\n      <td>1.0</td>\n      <td>0.6</td>\n      <td>0.75</td>\n    </tr>\n  </tbody>\n</table>\n<p>497 rows × 12 columns</p>\n</div>"
     },
     "execution_count": 13,
     "metadata": {},
     "output_type": "execute_result"
    }
   ],
   "source": [
    "from sklearn.preprocessing import MinMaxScaler\n",
    "\n",
    "scaler = MinMaxScaler()\n",
    "normalized_answers = pd.DataFrame(scaler.fit_transform(df), columns=df.columns)\n",
    "normalized_answers"
   ],
   "metadata": {
    "collapsed": false
   }
  },
  {
   "cell_type": "code",
   "execution_count": 14,
   "outputs": [],
   "source": [
    "mean = normalized_answers.mean()"
   ],
   "metadata": {
    "collapsed": false
   }
  },
  {
   "cell_type": "code",
   "execution_count": 15,
   "outputs": [
    {
     "data": {
      "text/plain": "<Figure size 1000x200 with 1 Axes>",
      "image/png": "[encoded data removed]"
     },
     "metadata": {},
     "output_type": "display_data"
    }
   ],
   "source": [
    "plt.style.use('ggplot')\n",
    "\n",
    "plt.figure(figsize=(10, 2))\n",
    "plt.bar(mean.index, mean.values, color=cm.plasma(mean.values))\n",
    "plt.ylim(0, 1)\n",
    "plt.xlabel('Section')\n",
    "plt.ylabel('Mean Points')\n",
    "plt.title('Mean Points per Section')\n",
    "plt.grid(axis='y')\n",
    "plt.savefig('mean.png', dpi=400)"
   ],
   "metadata": {
    "collapsed": false
   }
  }
 ],
 "metadata": {
  "kernelspec": {
   "display_name": "Python 3",
   "language": "python",
   "name": "python3"
  },
  "language_info": {
   "codemirror_mode": {
    "name": "ipython",
    "version": 2
   },
   "file_extension": ".py",
   "mimetype": "text/x-python",
   "name": "python",
   "nbconvert_exporter": "python",
   "pygments_lexer": "ipython2",
   "version": "2.7.6"
  }
 },
 "nbformat": 4,
 "nbformat_minor": 0
}
